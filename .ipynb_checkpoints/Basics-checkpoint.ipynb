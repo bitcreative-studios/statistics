{
 "cells": [
  {
   "cell_type": "code",
   "execution_count": 1,
   "metadata": {
    "inputHidden": false,
    "outputHidden": false
   },
   "outputs": [
    {
     "name": "stdout",
     "output_type": "stream",
     "text": [
      "3.7.5\n"
     ]
    }
   ],
   "source": []
  },
  {
   "cell_type": "markdown",
   "metadata": {},
   "source": [
    "# Statistical Introduction\n",
    "\n",
    "> Statistics is the explanation of variance in the light of what remains unexplained.[^1]\n",
    "\n",
    "## Motivation\n",
    "Eveery day we are confronted with situations with uncertain outcomes, and must make decisions based on incomplete data...while there are many questions that are out the realm of statistics (i.e., _the number of contributing factors is too large and ambigiously connected_) there are many other instances wher it can **help extract maximum knowledge from information given, and clearly spell out what we know and what we don't know**. Without statistics, the interpretation of data cna quickly becom massively flawed. Similarly, using the wrong tests can also lead to erroneous results, thus statistics facilates:\n",
    "\n",
    "- Clarifing the question\n",
    "- Identifing the variable and the measure of that variable that will answer theat question.\n",
    "- Determing the required sample size\n",
    "- Describing variation\n",
    "- Making quantitative statemetns about estimated parameters\n",
    "- Making predictions based on your data\n",
    "\n"
   ]
  },
  {
   "cell_type": "markdown",
   "metadata": {},
   "source": [
    "***\n",
    "[1]: Thomas Haslwanter, [Introdcution to Statistics with Python: WIth Applications in the Life Sciences](https://www.amazon.com/dp/B01JEJNNWY/ref=cm_sw_r_tw_dp_U_x_yt8cEbRPABR0T)"
   ]
  },
  {
   "cell_type": "markdown",
   "metadata": {},
   "source": []
  }
 ],
 "metadata": {
  "kernel_info": {
   "name": "python3"
  },
  "kernelspec": {
   "display_name": "Python 3",
   "language": "python",
   "name": "python3"
  },
  "language_info": {
   "codemirror_mode": {
    "name": "ipython",
    "version": 3
   },
   "file_extension": ".py",
   "mimetype": "text/x-python",
   "name": "python",
   "nbconvert_exporter": "python",
   "pygments_lexer": "ipython3",
   "version": "3.7.5"
  },
  "nteract": {
   "version": "0.15.0"
  }
 },
 "nbformat": 4,
 "nbformat_minor": 1
}
